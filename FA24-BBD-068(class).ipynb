{
 "cells": [
  {
   "cell_type": "code",
   "execution_count": 1,
   "id": "a5b6c7b2-0185-41ed-ad74-e5c622459246",
   "metadata": {},
   "outputs": [
    {
     "name": "stdout",
     "output_type": "stream",
     "text": [
      "Nabia\n",
      "18\n",
      "lahore\n",
      "name : Nabia ,age : 18 city : lahore\n"
     ]
    }
   ],
   "source": [
    "#question :1\n",
    "class person:\n",
    "    def __init__(self,name,age,city):\n",
    "        self.name= name\n",
    "        self.age= age\n",
    "        self.city=city\n",
    "\n",
    "    def intro(self):\n",
    "        print(f\"name : {self.name} ,age : {self.age} city : {self.city}\")\n",
    "\n",
    "the_person=person(\"Nabia\",18,\"lahore\")\n",
    "\n",
    "print(the_person.name)\n",
    "print(the_person.age)\n",
    "print(the_person.city)\n",
    "the_person.intro()"
   ]
  },
  {
   "cell_type": "code",
   "execution_count": 3,
   "id": "c701a50a-4da3-4c75-ad76-bd95e4e7029f",
   "metadata": {},
   "outputs": [
    {
     "name": "stdout",
     "output_type": "stream",
     "text": [
      "kia\n",
      "sportage\n",
      "2023\n"
     ]
    }
   ],
   "source": [
    "#question : 2\n",
    "class car:\n",
    "    def __init__(self,make,model,year):\n",
    "        self.make=make\n",
    "        self.model=model\n",
    "        self.year=year\n",
    "        def intro(self):\n",
    "            print(f\"name{self.make},age{self.model},city{self.year}\")\n",
    "\n",
    "the_car=car(\"kia\",\"sportage\",2023)\n",
    "\n",
    "print(the_car.make)\n",
    "print(the_car.model)\n",
    "print(the_car.year)"
   ]
  },
  {
   "cell_type": "code",
   "execution_count": 5,
   "id": "6ed3a23b-adbf-4828-938c-ba3d87cd147f",
   "metadata": {},
   "outputs": [
    {
     "name": "stdout",
     "output_type": "stream",
     "text": [
      "Nabia is speaking!\n",
      "name : Nabia ,age : 18, city :lahore\n"
     ]
    }
   ],
   "source": [
    "# question : \n",
    "class human:\n",
    "    def __init__(self,name,age,city):\n",
    "        self.name=name\n",
    "        self.age=age\n",
    "        self.city=city\n",
    "    def speak(self):\n",
    "        print(f\"{self.name} is speaking!\")\n",
    "\n",
    "class person(human):\n",
    "    def intro(self):\n",
    "        print(f\"name : {self.name} ,age : {self.age}, city :{self.city}\")\n",
    "the_person=person(\"Nabia\",18,\"lahore\")\n",
    "the_person.speak()\n",
    "the_person.intro()"
   ]
  },
  {
   "cell_type": "code",
   "execution_count": 19,
   "id": "64d32362-7d52-4bef-88f7-01bf8ec06ba3",
   "metadata": {},
   "outputs": [
    {
     "name": "stdout",
     "output_type": "stream",
     "text": [
      "Area: 78.53981633974483\n",
      "circumference: 31.41592653589793\n"
     ]
    }
   ],
   "source": [
    "#question : 03\n",
    "import  math\n",
    "class circle :\n",
    "    def __init__ (self,radius):\n",
    "        self.radius=radius\n",
    "    def area(self):\n",
    "         print(\"Area:\",math.pi* self.radius**2)\n",
    "    def circumference(self):\n",
    "        print(\"circumference:\",2 *math.pi* self.radius)\n",
    "\n",
    "circle=circle(5)\n",
    "circle.area()\n",
    "circle.circumference()"
   ]
  },
  {
   "cell_type": "code",
   "execution_count": 15,
   "id": "a49de303-18b8-4ca3-a591-6b2cfe23a1cd",
   "metadata": {},
   "outputs": [
    {
     "name": "stdout",
     "output_type": "stream",
     "text": [
      "area: 56\n",
      "Perimeter: 30\n"
     ]
    }
   ],
   "source": [
    "#question:04\n",
    "class rectangle:\n",
    "    def __init__(self,length,width):\n",
    "       self.length=length\n",
    "       self.width=width\n",
    "    def area(self):\n",
    "        print (\"area:\",self.length*self.width)\n",
    "    def perimeter(self):\n",
    "        print(\"Perimeter:\", 2 *(self.length+self.width))\n",
    "rectangle=rectangle(8,7)\n",
    "rectangle.area()\n",
    "rectangle.perimeter()"
   ]
  },
  {
   "cell_type": "code",
   "execution_count": 43,
   "id": "031c3f67-0f21-46ed-9e77-703fb7b0a8cb",
   "metadata": {},
   "outputs": [
    {
     "name": "stdout",
     "output_type": "stream",
     "text": [
      "average: 73.6\n"
     ]
    }
   ],
   "source": [
    "#question:05\n",
    "class Student:\n",
    "    def __init__(self,name,roll_no,marks):\n",
    "        self.name= name\n",
    "        self.roll_no= roll_no\n",
    "        self.marks=marks\n",
    "    def average(self):\n",
    "        total_marks=sum(self.marks)\n",
    "        no_subjects=len(self.marks)\n",
    "        average_marks=total_marks/no_subjects\n",
    "        print(\"average:\",average_marks)\n",
    "student=Student('Nabia',68,[71,89,90,51,67])\n",
    "student.average()"
   ]
  },
  {
   "cell_type": "code",
   "execution_count": 25,
   "id": "c66d4fdf-23ca-4bb8-8faf-b528ab2c2bf1",
   "metadata": {},
   "outputs": [
    {
     "name": "stdout",
     "output_type": "stream",
     "text": [
      "The Book Theif is written\n",
      "title : The Book Theif, author : Markus Zusak , publication_year : 2005\n"
     ]
    }
   ],
   "source": [
    "#question:06\n",
    "class book :\n",
    "    def __init__(self,title,author,publication_year):\n",
    "        self.title=title\n",
    "        self.author=author\n",
    "        self.publication_year=publication_year\n",
    "    def written(self):\n",
    "        print(f\"{self.title} is written\")\n",
    "class novel(book):\n",
    "  def intro(self):\n",
    "      print(f\"title : {self.title}, author : {self.author} , publication_year : {self.publication_year}\")\n",
    "the_book=novel(\"The Book Theif\",\"Markus Zusak\",2005)\n",
    "the_book.written()\n",
    "the_book.intro()"
   ]
  },
  {
   "cell_type": "code",
   "execution_count": 27,
   "id": "726952e8-0750-4023-a129-3eacd62b8de1",
   "metadata": {},
   "outputs": [
    {
     "name": "stdout",
     "output_type": "stream",
     "text": [
      " name :Armaghan, salary : 180000 , designation : Doctor\n"
     ]
    }
   ],
   "source": [
    "#question:07\n",
    "class employee:\n",
    "    def __init__(self,name,salary,designation):\n",
    "        self.name=name\n",
    "        self.salary=salary\n",
    "        self.designation=designation\n",
    "    def display_info(self):\n",
    "       print(f\" name :{self.name}, salary : {self.salary} , designation : { self.designation}\")\n",
    "the_employee=employee(\"Armaghan\" , 180000 , \"Doctor\")\n",
    "the_employee.display_info()"
   ]
  },
  {
   "cell_type": "code",
   "execution_count": 57,
   "id": "5c250386-11c7-40e8-808e-1f3e1ef20730",
   "metadata": {},
   "outputs": [
    {
     "name": "stdout",
     "output_type": "stream",
     "text": [
      "Withdrew:35000; New Balance:615000\n"
     ]
    }
   ],
   "source": [
    "#question:08\n",
    "class Bank:\n",
    "    def __init__(self,name,account_number,balance):\n",
    "        self.name= name\n",
    "        self.account_number= account_number\n",
    "        self.balance= balance\n",
    "    def deposit(self,amount):\n",
    "        self.balance+=amount\n",
    "        print(f\"Deposited:{amount}; New Balance:{self.balance}\")\n",
    "    def withdraw (self,amount):\n",
    "        if amount<=self.balance:\n",
    "            self.balance-=amount\n",
    "            print(f\"Withdrew:{amount}; New Balance:{self.balance}\")\n",
    "        else:\n",
    "            print(\"insufficient funds\")\n",
    "bank_account=Bank(\"Nabia\",85202,650000)\n",
    "bank_account.withdraw(35000)"
   ]
  },
  {
   "cell_type": "code",
   "execution_count": null,
   "id": "6e34e524-50ac-4c86-995a-ff514f9469f8",
   "metadata": {},
   "outputs": [],
   "source": []
  }
 ],
 "metadata": {
  "kernelspec": {
   "display_name": "Python 3 (ipykernel)",
   "language": "python",
   "name": "python3"
  },
  "language_info": {
   "codemirror_mode": {
    "name": "ipython",
    "version": 3
   },
   "file_extension": ".py",
   "mimetype": "text/x-python",
   "name": "python",
   "nbconvert_exporter": "python",
   "pygments_lexer": "ipython3",
   "version": "3.12.4"
  }
 },
 "nbformat": 4,
 "nbformat_minor": 5
}
